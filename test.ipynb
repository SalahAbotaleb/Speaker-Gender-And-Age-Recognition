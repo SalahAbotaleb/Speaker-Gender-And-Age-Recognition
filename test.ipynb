{
 "cells": [
  {
   "cell_type": "code",
   "execution_count": 22,
   "id": "298c4c88",
   "metadata": {},
   "outputs": [],
   "source": [
    "import joblib\n",
    "import numpy as np\n",
    "\n",
    "X_train = joblib.load('./trials/features/hfcc150_pitch_range/X_train.joblib')\n",
    "X_test = joblib.load('./trials/features/hfcc150_pitch_range/X_test.joblib')\n",
    "\n",
    "y_train = joblib.load(r'trials\\features\\48k_mfcc_extra_hfcc_extra\\y_train.joblib')\n",
    "y_test = joblib.load(r'trials\\features\\48k_mfcc_extra_hfcc_extra\\y_test.joblib')\n",
    "\n",
    "X_train2= joblib.load(r'trials\\features\\48k_mfcc_extra_hfcc_extra\\X_train.joblib')\n",
    "X_test2= joblib.load(r'trials\\features\\48k_mfcc_extra_hfcc_extra\\X_test.joblib')\n",
    "\n",
    "X_train_combined = np.concatenate((X_train2[:,:150], X_train2[:,7*75:9*75], X_train[:,-1:]), axis=1)\n",
    "X_test_combined = np.concatenate((X_test2[:,:150], X_test2[:,7*75:9*75], X_test[:,-1:]), axis=1)\n",
    "\n",
    "x_gender_train = np.concatenate((X_train2[:,:150], X_train2[:,7*75:9*75], X_train[:,-1:]), axis=1)\n",
    "y_gender_train = y_train % 2\n",
    "\n",
    "x_gender_test = np.concatenate((X_test2[:,:150], X_test2[:,7*75:9*75], X_test[:,-1:]), axis=1)\n",
    "y_gender_test = y_test % 2\n",
    "\n",
    "x_age_train = np.concatenate((X_train2[:,:150], X_train2[:,7*75:9*75], X_train[:,-1:]), axis=1)\n",
    "y_age_train = y_train // 2\n",
    "\n",
    "x_age_test = np.concatenate((X_test2[:,:150], X_test2[:,7*75:9*75], X_test[:,-1:]), axis=1)\n",
    "y_age_test = y_test // 2\n",
    "\n",
    "female_train = y_train % 2 == 1\n",
    "x_female_train_all = np.concatenate((X_train2[:,:150], X_train2[:,525:675],X_train2[:,750:900],X_train2[:,975:1050]), axis=1)\n",
    "x_female_train = x_female_train_all[female_train]\n",
    "y_female_train = y_train[female_train]\n",
    "\n",
    "female_test = y_test % 2 == 1\n",
    "x_female_test_all = np.concatenate((X_test2[:,:150], X_test2[:,525:675],X_test2[:,750:900],X_test2[:,975:1050]), axis=1)\n",
    "x_female_test = x_female_test_all[female_test]\n",
    "y_female_test = y_test[female_test]\n",
    "\n",
    "male_train = y_train % 2 == 0\n",
    "x_male_train_all = np.concatenate((X_train2[:,:150], X_train2[:,7*75:9*75]), axis=1)\n",
    "x_male_train = x_male_train_all[male_train]\n",
    "y_male_train = y_train[male_train] // 2\n",
    "\n",
    "male_test = y_test % 2 == 0\n",
    "x_male_test_all = np.concatenate((X_test2[:,:150], X_test2[:,7*75:9*75]), axis=1)\n",
    "x_male_test = x_male_test_all[male_test]\n",
    "y_male_test = y_test[male_test] // 2"
   ]
  },
  {
   "cell_type": "code",
   "execution_count": 30,
   "id": "f80b30a7",
   "metadata": {},
   "outputs": [],
   "source": [
    "from sklearn.model_selection import cross_val_score\n",
    "from sklearn.neighbors import KNeighborsClassifier as knn\n",
    "from sklearn.model_selection import StratifiedKFold\n",
    "\n",
    "import cloudpickle\n",
    "\n",
    "with open(r\"trials\\female_cloudpickle\\export.pkl\", \"rb\") as f:\n",
    "    model = cloudpickle.load(f)\n",
    "\n",
    "clf_female = model.named_steps['classifier']\n",
    "# clf = SVC(kernel='rbf', C=1000, gamma=0.0001, random_state=42, class_weight='balanced')\n",
    "# clf = knn(n_neighbors=4, weights='distance', algorithm='auto', n_jobs=-1)\n",
    "# model_pipe = make_pipeline(clf, verbose=True)\n",
    "# Use only the first fold for validation\n",
    "\n",
    "skf = StratifiedKFold(n_splits=5, shuffle=True, random_state=42)\n",
    "train_idx, val_idx = next(skf.split(x_female_train, y_female_train))\n",
    "\n",
    "X_train_fold, X_val_fold = x_female_train[train_idx], x_female_train[val_idx]\n",
    "y_train_fold, y_val_fold = y_female_train[train_idx], y_female_train[val_idx]\n",
    "\n",
    "# model_pipe.fit(X_train_fold, y_train_fold)\n",
    "# cv_scores = [clf_female.score(X_val_fold, y_val_fold)]\n",
    "\n",
    "# Perform cross-validation\n",
    "# cv_scores = cross_val_score(model_pipe, X_train_combined, y_train, cv=5, scoring='accuracy')\n",
    "\n",
    "# Print cross-validation results\n",
    "# print(\"Cross-validation scores:\", cv_scores)"
   ]
  },
  {
   "cell_type": "code",
   "execution_count": 31,
   "id": "03d7b588",
   "metadata": {},
   "outputs": [],
   "source": [
    "from sklearn.model_selection import cross_val_score\n",
    "from sklearn.neighbors import KNeighborsClassifier as knn\n",
    "from sklearn.model_selection import StratifiedKFold\n",
    "\n",
    "model = joblib.load(r'trials\\model_30_04_2025_T02_42_47\\model.joblib')\n",
    "clf_male = model.named_steps['pipeline-2'].named_steps['svc']\n",
    "# clf = SVC(kernel='rbf', C=1000, gamma=0.0001, random_state=42, class_weight='balanced')\n",
    "# clf = knn(n_neighbors=4, weights='distance', algorithm='auto', n_jobs=-1)\n",
    "# model_pipe = make_pipeline(clf, verbose=True)\n",
    "# Use only the first fold for validation\n",
    "\n",
    "skf = StratifiedKFold(n_splits=5, shuffle=True, random_state=42)\n",
    "train_idx, val_idx = next(skf.split(x_male_train, y_male_train))\n",
    "\n",
    "X_train_fold, X_val_fold = x_male_train[train_idx], x_male_train[val_idx]\n",
    "y_train_fold, y_val_fold = y_male_train[train_idx], y_male_train[val_idx]\n",
    "\n",
    "# model_pipe.fit(X_train_fold, y_train_fold)\n",
    "# cv_scores = [clf_male.score(X_val_fold, y_val_fold)]\n",
    "\n",
    "# Perform cross-validation\n",
    "# cv_scores = cross_val_score(model_pipe, X_train_combined, y_train, cv=5, scoring='accuracy')\n",
    "\n",
    "# Print cross-validation results\n",
    "# print(\"Cross-validation scores:\", cv_scores)"
   ]
  },
  {
   "cell_type": "code",
   "execution_count": 32,
   "id": "41830dc7",
   "metadata": {},
   "outputs": [],
   "source": [
    "from sklearn.model_selection import cross_val_score\n",
    "from sklearn.neighbors import KNeighborsClassifier as knn\n",
    "from sklearn.model_selection import StratifiedKFold\n",
    "\n",
    "model = joblib.load(r'trials\\model_29_04_2025_T06_04_17_Gender_Best\\model.joblib')\n",
    "clf_gender = model.named_steps['pipeline-2'].named_steps['svc']\n",
    "# clf = SVC(kernel='rbf', C=1000, gamma=0.0001, random_state=42, class_weight='balanced')\n",
    "# clf = knn(n_neighbors=4, weights='distance', algorithm='auto', n_jobs=-1)\n",
    "# model_pipe = make_pipeline(clf, verbose=True)\n",
    "# Use only the first fold for validation\n",
    "\n",
    "skf = StratifiedKFold(n_splits=5, shuffle=True, random_state=42)\n",
    "train_idx, val_idx = next(skf.split(x_gender_train, y_gender_train))\n",
    "\n",
    "X_train_fold, X_val_fold = x_gender_train[train_idx], x_gender_train[val_idx]\n",
    "y_train_fold, y_val_fold = y_gender_train[train_idx], y_gender_train[val_idx]\n",
    "\n",
    "# model_pipe.fit(X_train_fold, y_train_fold)\n",
    "# cv_scores = [clf_gender.score(X_val_fold, y_val_fold)]\n",
    "\n",
    "# Perform cross-validation\n",
    "# cv_scores = cross_val_score(model_pipe, X_train_combined, y_train, cv=5, scoring='accuracy')\n",
    "\n",
    "# Print cross-validation results\n",
    "# print(\"Cross-validation scores:\", cv_scores)"
   ]
  },
  {
   "cell_type": "code",
   "execution_count": 33,
   "id": "500887fa",
   "metadata": {},
   "outputs": [
    {
     "name": "stdout",
     "output_type": "stream",
     "text": [
      "Gender Done\n",
      "Male Done\n",
      "Female Done\n"
     ]
    }
   ],
   "source": [
    "gender_pred = clf_gender.predict(x_gender_test)\n",
    "print(\"Gender Done\")\n",
    "\n",
    "# Prepare arrays to hold predictions\n",
    "age_pred = np.empty_like(y_test)\n",
    "\n",
    "# Indices for male and female predictions\n",
    "male_indices = np.where(gender_pred == 0)[0]\n",
    "female_indices = np.where(gender_pred == 1)[0]\n",
    "\n",
    "# Predict age for males\n",
    "if len(male_indices) > 0:\n",
    "  age_pred[male_indices] = clf_male.predict(x_male_test_all[male_indices])\n",
    "print(\"Male Done\")\n",
    "\n",
    "# Predict age for females\n",
    "if len(female_indices) > 0:\n",
    "  age_pred[female_indices] = clf_female.predict(x_female_test_all[female_indices]) // 2\n",
    "print(\"Female Done\")"
   ]
  },
  {
   "cell_type": "code",
   "execution_count": null,
   "id": "8d43a8c7",
   "metadata": {},
   "outputs": [
    {
     "name": "stdout",
     "output_type": "stream",
     "text": [
      "0.9893336265669672\n",
      "              precision    recall  f1-score   support\n",
      "\n",
      "           0       0.99      0.99      0.99      7188\n",
      "           1       0.97      0.98      0.97      1906\n",
      "\n",
      "    accuracy                           0.99      9094\n",
      "   macro avg       0.98      0.98      0.98      9094\n",
      "weighted avg       0.99      0.99      0.99      9094\n",
      "\n"
     ]
    }
   ],
   "source": [
    "print(accuracy_score(y_test % 2, gender_pred))\n",
    "print(classification_report(y_test % 2, gender_pred))"
   ]
  },
  {
   "cell_type": "code",
   "execution_count": 36,
   "id": "51a3ba3f",
   "metadata": {},
   "outputs": [
    {
     "name": "stdout",
     "output_type": "stream",
     "text": [
      "0.9782274026830877\n",
      "              precision    recall  f1-score   support\n",
      "\n",
      "           0       0.98      0.99      0.99      7301\n",
      "           1       0.96      0.93      0.94      1793\n",
      "\n",
      "    accuracy                           0.98      9094\n",
      "   macro avg       0.97      0.96      0.97      9094\n",
      "weighted avg       0.98      0.98      0.98      9094\n",
      "\n"
     ]
    }
   ],
   "source": [
    "print(accuracy_score(y_test // 2, age_pred))\n",
    "print(classification_report(y_test // 2, age_pred))"
   ]
  },
  {
   "cell_type": "code",
   "execution_count": 37,
   "id": "7610f654",
   "metadata": {},
   "outputs": [
    {
     "name": "stdout",
     "output_type": "stream",
     "text": [
      "Accuracy Score:  0.9714097206949637\n",
      "              precision    recall  f1-score   support\n",
      "\n",
      "           0       0.99      0.98      0.98      6261\n",
      "           1       0.96      0.96      0.96      1092\n",
      "           2       0.90      0.95      0.92       916\n",
      "           3       0.96      0.95      0.96       825\n",
      "\n",
      "    accuracy                           0.97      9094\n",
      "   macro avg       0.95      0.96      0.96      9094\n",
      "weighted avg       0.97      0.97      0.97      9094\n",
      "\n"
     ]
    }
   ],
   "source": [
    "from sklearn.metrics import classification_report, accuracy_score\n",
    "\n",
    "overall_pred1 = age_pred * 2 + gender_pred\n",
    "print(\"Accuracy Score: \", accuracy_score(y_test, overall_pred1))\n",
    "print(classification_report(overall_pred1, y_test))\n"
   ]
  },
  {
   "cell_type": "code",
   "execution_count": 38,
   "id": "5e3b0d76",
   "metadata": {},
   "outputs": [],
   "source": [
    "from sklearn.model_selection import StratifiedKFold\n",
    "from sklearn.metrics import accuracy_score\n",
    "\n",
    "model = joblib.load(r'trials\\model_age_only\\export.pkl')\n",
    "\n",
    "clf_age = model.named_steps['classifier']\n",
    "# clf = SVC(kernel='rbf', C=1000, gamma=0.0001, random_state=42, class_weight='balanced')\n",
    "# clf = knn(n_neighbors=4, weights='distance', algorithm='auto', n_jobs=-1)\n",
    "# model_pipe = make_pipeline(clf, verbose=True)\n",
    "\n",
    "# Use only the first fold for validation\n",
    "skf = StratifiedKFold(n_splits=5, shuffle=True, random_state=42)\n",
    "train_idx, val_idx = next(skf.split(x_age_train, y_age_train))\n",
    "x_age_train_fold, y_age_train_fold = x_age_train[train_idx], y_age_train[train_idx]\n",
    "x_age_val_fold, y_age_val_fold = x_age_train[val_idx], y_age_train[val_idx]\n",
    "\n",
    "# y_age_pred = clf_age.predict(x_age_val_fold)\n",
    "# print(\"Age Validation Accuracy:\", accuracy_score(y_age_val_fold, y_age_pred))"
   ]
  },
  {
   "cell_type": "code",
   "execution_count": 40,
   "id": "b6e441ca",
   "metadata": {},
   "outputs": [
    {
     "name": "stdout",
     "output_type": "stream",
     "text": [
      "Gender Done\n",
      "0.9683307675390367\n"
     ]
    }
   ],
   "source": [
    "gender_pred = clf_gender.predict(x_gender_test)\n",
    "print(\"Gender Done\")\n",
    "\n",
    "# Prepare arrays to hold predictions\n",
    "age_pred = np.empty_like(y_test)\n",
    "\n",
    "# Indices for male and female predictions\n",
    "male_indices = np.where(gender_pred == 0)[0]\n",
    "female_indices = np.where(gender_pred == 1)[0]\n",
    "\n",
    "# Predict age for males\n",
    "age_pred = clf_age.predict(x_age_test)\n",
    "\n",
    "overall_pred2 = age_pred * 2 + gender_pred\n",
    "print(accuracy_score(y_test, overall_pred2))"
   ]
  },
  {
   "cell_type": "code",
   "execution_count": 20,
   "id": "083e395d",
   "metadata": {},
   "outputs": [
    {
     "name": "stdout",
     "output_type": "stream",
     "text": [
      "Pipeline(steps=[('pipeline-1',\n",
      "                 Pipeline(steps=[('dcremover', DCRemover()),\n",
      "                                 ('qualityenhancer', QualityEnhancer()),\n",
      "                                 ('lightloudnessnormalizer',\n",
      "                                  LightLoudnessNormalizer()),\n",
      "                                 ('silenceremover',\n",
      "                                  SilenceRemover(amplitude_threshold=0.0005)),\n",
      "                                 ('featureunion',\n",
      "                                  FeatureUnion(transformer_list=[('mfcc',\n",
      "                                                                  MFCC(config={'context': 0,\n",
      "                                                                               'hop_length': 512,\n",
      "                                                                               'n_fft': 2048,\n",
      "                                                                               'n_mfcc': 75,\n",
      "                                                                               'sr': 48000,\n",
      "                                                                               'use_cmvn': False,\n",
      "                                                                               'use_deltas': False,\n",
      "                                                                               'use_smoothing': True,\n",
      "                                                                               'use_spectral_subtraction': False})),\n",
      "                                                                 ('hfcc',\n",
      "                                                                  HFCC()),\n",
      "                                                                 ('pitch_range',\n",
      "                                                                  PitchRange())]))],\n",
      "                          verbose=True)),\n",
      "                ('pipeline-2',\n",
      "                 Pipeline(steps=[('svc',\n",
      "                                  SVC(C=1000, class_weight='balanced',\n",
      "                                      gamma=0.0001, random_state=42))],\n",
      "                          verbose=True))])\n"
     ]
    }
   ],
   "source": [
    "print(model)"
   ]
  },
  {
   "cell_type": "code",
   "execution_count": 26,
   "id": "fc73feeb",
   "metadata": {},
   "outputs": [
    {
     "name": "stdout",
     "output_type": "stream",
     "text": [
      "Accuracy:  0.9952832918571677\n"
     ]
    }
   ],
   "source": [
    "from sklearn.model_selection import cross_val_score\n",
    "from sklearn.neighbors import KNeighborsClassifier as knn\n",
    "from sklearn.model_selection import StratifiedKFold\n",
    "\n",
    "model = joblib.load(r'trials\\model_01_05_2025_T01_05_49\\model.joblib')\n",
    "clf = model.named_steps['pipeline-2'].named_steps['svc']\n",
    "\n",
    "skf = StratifiedKFold(n_splits=5, shuffle=True, random_state=75)\n",
    "train_idx, val_idx = next(skf.split(X_train_combined, y_train))\n",
    "\n",
    "X_train_fold, X_val_fold = X_train_combined[train_idx], X_train_combined[val_idx]\n",
    "y_train_fold, y_val_fold = y_train[train_idx], y_train[val_idx]\n",
    "\n",
    "# model_pipe.fit(X_train_fold, y_train_fold)\n",
    "y_pred = clf.predict(X_val_fold)\n",
    "print(\"Accuracy: \", accuracy_score(y_pred, y_val_fold))"
   ]
  },
  {
   "cell_type": "code",
   "execution_count": 27,
   "id": "78f561c5",
   "metadata": {},
   "outputs": [
    {
     "data": {
      "text/plain": [
       "{np.int64(0), np.int64(1), np.int64(2), np.int64(3)}"
      ]
     },
     "execution_count": 27,
     "metadata": {},
     "output_type": "execute_result"
    }
   ],
   "source": [
    "set(y_pred)\n",
    "# set(y_val_fold)"
   ]
  },
  {
   "cell_type": "code",
   "execution_count": null,
   "id": "750dc708",
   "metadata": {},
   "outputs": [
    {
     "name": "stdout",
     "output_type": "stream",
     "text": [
      "Accuracy:  0.9726193094347921\n"
     ]
    }
   ],
   "source": [
    "y_pred_test1 = clf.predict(X_test_combined)\n",
    "print(\"Accuracy: \", accuracy_score(y_pred_test, y_test))"
   ]
  },
  {
   "cell_type": "code",
   "execution_count": 49,
   "id": "fc6f66af",
   "metadata": {},
   "outputs": [
    {
     "name": "stdout",
     "output_type": "stream",
     "text": [
      "Majority Vote Accuracy: 0.9741587860127556\n"
     ]
    }
   ],
   "source": [
    "from scipy.stats import mode\n",
    "\n",
    "# Stack predictions for majority voting\n",
    "preds = np.vstack([y_pred_test1, overall_pred1, overall_pred2])\n",
    "\n",
    "# Compute majority vote along axis 0\n",
    "majority_vote_pred, _ = mode(preds, axis=0, keepdims=False)\n",
    "\n",
    "# Calculate accuracy\n",
    "majority_vote_accuracy = accuracy_score(y_test, majority_vote_pred)\n",
    "print(\"Majority Vote Accuracy:\", majority_vote_accuracy)"
   ]
  }
 ],
 "metadata": {
  "kernelspec": {
   "display_name": "Python 3",
   "language": "python",
   "name": "python3"
  },
  "language_info": {
   "codemirror_mode": {
    "name": "ipython",
    "version": 3
   },
   "file_extension": ".py",
   "mimetype": "text/x-python",
   "name": "python",
   "nbconvert_exporter": "python",
   "pygments_lexer": "ipython3",
   "version": "3.12.9"
  }
 },
 "nbformat": 4,
 "nbformat_minor": 5
}
