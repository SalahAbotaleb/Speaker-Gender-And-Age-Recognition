{
 "cells": [
  {
   "cell_type": "code",
   "execution_count": 13,
   "id": "a187446f",
   "metadata": {},
   "outputs": [
    {
     "name": "stdout",
     "output_type": "stream",
     "text": [
      "The autoreload extension is already loaded. To reload it, use:\n",
      "  %reload_ext autoreload\n"
     ]
    }
   ],
   "source": [
    "%load_ext autoreload\n",
    "%autoreload 2\n",
    "\n",
    "from sklearn.ensemble import RandomForestClassifier\n",
    "from models.gender_age import GenderAgePipeline\n",
    "from xgboost import XGBClassifier\n",
    "from sklearn.neighbors import KNeighborsClassifier as knn\n",
    "import joblib\n",
    "import numpy as np\n",
    "\n",
    "gender_pipe = knn(n_neighbors=4, weights='distance', algorithm='auto', n_jobs=-1) \n",
    "male_pipe = knn(n_neighbors=4, weights='distance', algorithm='auto', n_jobs=-1)\n",
    "female_pipe = knn(n_neighbors=4, weights='distance', algorithm='auto', n_jobs=-1)\n",
    "\n",
    "gender_age_pipe = GenderAgePipeline(gender_pipe, male_pipe, female_pipe)"
   ]
  },
  {
   "cell_type": "code",
   "execution_count": 14,
   "id": "b68ca8f0",
   "metadata": {},
   "outputs": [],
   "source": [
    "X_train = joblib.load('./trials/features/hfcc150_pitch_range/X_train.joblib')\n",
    "X_test = joblib.load('./trials/features/hfcc150_pitch_range/X_test.joblib')\n",
    "\n",
    "y_train = joblib.load('./trials/features/hfcc150_pitch_range/y_train.joblib')\n",
    "y_test = joblib.load('./trials/features/hfcc150_pitch_range/y_test.joblib')\n",
    "\n",
    "X_train2= joblib.load('./trials/features/48k_mfcc150/X_train.joblib')\n",
    "X_test2= joblib.load('./trials/features/48k_mfcc150/X_test.joblib')\n",
    "\n",
    "X_train_combined = np.concatenate((X_train, X_train2), axis=1) \n",
    "X_train_combined = np.delete(X_train_combined, np.s_[151:152], axis=1)\n",
    "X_test_combined = np.concatenate((X_test, X_test2), axis=1)\n",
    "X_test_combined = np.delete(X_test_combined, np.s_[151:152], axis=1)\n",
    "\n",
    "X_gender_train = X_train_combined\n",
    "y_gender_train = y_train % 2\n",
    "\n",
    "female_train = y_train % 2 == 1\n",
    "x_female_train = np.delete(X_train_combined[female_train], np.s_[151:152], axis=1)\n",
    "y_female_train = y_train[female_train]\n",
    "\n",
    "female_test = y_test % 2 == 1\n",
    "x_female_test = X_test_combined[female_test]\n",
    "y_female_test = y_test[female_test]\n",
    "\n",
    "male_train = y_train % 2 == 0\n",
    "x_male_train = X_train_combined[male_train]\n",
    "y_male_train = y_train[male_train]\n",
    "\n",
    "male_test = y_test % 2 == 0\n",
    "x_male_test = X_test_combined[male_test]\n",
    "y_male_test = y_test[male_test]"
   ]
  },
  {
   "cell_type": "code",
   "execution_count": 15,
   "id": "00c40ace",
   "metadata": {},
   "outputs": [
    {
     "name": "stdout",
     "output_type": "stream",
     "text": [
      "Accuracy: 0.9748185616890257\n",
      "\n",
      "Classification Report:\n",
      "              precision    recall  f1-score   support\n",
      "\n",
      "           0       0.98      0.99      0.98      6217\n",
      "           1       0.98      0.95      0.96      1084\n",
      "           2       0.93      0.94      0.94       971\n",
      "           3       0.96      0.98      0.97       822\n",
      "\n",
      "    accuracy                           0.97      9094\n",
      "   macro avg       0.96      0.96      0.96      9094\n",
      "weighted avg       0.97      0.97      0.97      9094\n",
      "\n",
      "\n",
      "Confusion Matrix:\n",
      "[[6126   16   57   18]\n",
      " [  39 1026    5   14]\n",
      " [  56    1  910    4]\n",
      " [  10    6    3  803]]\n"
     ]
    }
   ],
   "source": [
    "from sklearn.metrics import accuracy_score, classification_report, confusion_matrix\n",
    "\n",
    "gender_age_pipe = gender_age_pipe.fit(X_train_combined, np.array(y_train))\n",
    "y_pred = gender_age_pipe.predict(X_test_combined)\n",
    "print(\"Accuracy:\", accuracy_score(y_test, y_pred))\n",
    "print(\"\\nClassification Report:\")\n",
    "print(classification_report(y_test, y_pred))\n",
    "print(\"\\nConfusion Matrix:\")\n",
    "print(confusion_matrix(y_test, y_pred))"
   ]
  },
  {
   "cell_type": "code",
   "execution_count": null,
   "id": "2fec4d55",
   "metadata": {},
   "outputs": [],
   "source": [
    "from sklearn.model_selection import GridSearchCV\n",
    "\n",
    "param_grid = {\n",
    "    'gender_model__n_estimators': [100, 200],\n",
    "    'gender_model__max_depth': [3, 6],\n",
    "    'gender_model__learning_rate': [0.1, 0.01],\n",
    "\n",
    "    'male_age_model__n_estimators': [100, 200],\n",
    "    'male_age_model__max_depth': [3, 6],\n",
    "    'male_age_model__learning_rate': [0.1, 0.01],\n",
    "\n",
    "    'female_age_model__n_estimators': [100, 200],\n",
    "    'female_age_model__max_depth': [3, 6],\n",
    "    'female_age_model__learning_rate': [0.1, 0.01],\n",
    "}\n",
    "\n",
    "grid = GridSearchCV(gender_age_pipe, param_grid, cv=3, scoring='accuracy', verbose=2, n_jobs=-1)\n",
    "grid.fit(X_train, y_train)\n",
    "\n",
    "print(\"Best Score:\", grid.best_score_)\n",
    "print(\"Best Params:\", grid.best_params_)\n",
    "\n",
    "y_pred = grid.best_estimator_.predict(X_test)\n",
    "print(\"Test Accuracy:\", accuracy_score(y_test, y_pred))\n",
    "print(\"\\nTest Classification Report:\")\n",
    "print(classification_report(y_test, y_pred))\n",
    "print(\"\\nConfusion Matrix:\")\n",
    "print(confusion_matrix(y_test, y_pred))"
   ]
  }
 ],
 "metadata": {
  "kernelspec": {
   "display_name": "Python 3",
   "language": "python",
   "name": "python3"
  },
  "language_info": {
   "codemirror_mode": {
    "name": "ipython",
    "version": 3
   },
   "file_extension": ".py",
   "mimetype": "text/x-python",
   "name": "python",
   "nbconvert_exporter": "python",
   "pygments_lexer": "ipython3",
   "version": "3.12.9"
  }
 },
 "nbformat": 4,
 "nbformat_minor": 5
}
