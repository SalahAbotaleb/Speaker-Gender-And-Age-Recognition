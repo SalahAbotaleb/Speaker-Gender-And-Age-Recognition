{
 "cells": [
  {
   "cell_type": "code",
   "execution_count": null,
   "id": "a187446f",
   "metadata": {},
   "outputs": [],
   "source": [
    "%load_ext autoreload\n",
    "%autoreload 2\n",
    "\n",
    "from sklearn.ensemble import RandomForestClassifier\n",
    "from models.gender_age import GenderAgePipeline\n",
    "from xgboost import XGBClassifier\n",
    "\n",
    "gender_pipe = XGBClassifier(class_weight='balanced')\n",
    "male_pipe = XGBClassifier(class_weight='balanced')\n",
    "female_pipe = XGBClassifier(class_weight='balanced')\n",
    "\n",
    "gender_age_pipe = GenderAgePipeline(gender_pipe, male_pipe, female_pipe)"
   ]
  },
  {
   "cell_type": "code",
   "execution_count": null,
   "id": "b68ca8f0",
   "metadata": {},
   "outputs": [],
   "source": [
    "import joblib\n",
    "import numpy as np\n",
    "from sklearn.model_selection import train_test_split\n",
    "\n",
    "# Load joblib files directly\n",
    "X_train = joblib.load('./trials/features/mfcc150_hfcc150_spectral5_alpha_ratio1/X_train.joblib')\n",
    "X_test = joblib.load('./trials/features/mfcc150_hfcc150_spectral5_alpha_ratio1/X_test.joblib')\n",
    "y_train = joblib.load('./trials/features/mfcc150_hfcc150_spectral5_alpha_ratio1/y_train.joblib')\n",
    "y_test = joblib.load('./trials/features/mfcc150_hfcc150_spectral5_alpha_ratio1/y_test.joblib')\n",
    "\n",
    "X = np.concatenate((X_train, X_test), axis=0)\n",
    "y = np.concatenate((y_train, y_test), axis=0)\n",
    "\n",
    "X_train, X_test, y_train, y_test = train_test_split(X, y, test_size=0.05, random_state=42, stratify=y)\n",
    "\n",
    "# X_male = [x for x, y in zip(X, y) if y in [0, 2]]\n",
    "# y_male = [c//2 for c in y if c in [0, 2]]\n",
    "# X_female = [x for x, y in zip(X, y) if y in [1, 3]]\n",
    "# y_female = [c//2 for c in y if c in [1, 3]]\n",
    "# X_gender = X\n",
    "# y_gender = [c%2 for c in y]\n",
    "\n",
    "# X_male_train, X_male_test, y_male_train, y_male_test = train_test_split(X_male, y_male, test_size=0.2, random_state=42)\n",
    "# X_female_train, X_female_test, y_female_train, y_female_test = train_test_split(X_female, y_female, test_size=0.2, random_state=42)\n",
    "# X_gender_train, X_gender_test, y_gender_train, y_gender_test = train_test_split(X_gender, y_gender, test_size=0.2, random_state=42)\n"
   ]
  },
  {
   "cell_type": "code",
   "execution_count": null,
   "id": "00c40ace",
   "metadata": {},
   "outputs": [],
   "source": [
    "from sklearn.metrics import accuracy_score, classification_report, confusion_matrix\n",
    "\n",
    "gender_age_pipe = gender_age_pipe.fit(X_train, np.array(y_train))\n",
    "y_pred = gender_age_pipe.predict(X_test)\n",
    "print(\"Accuracy:\", accuracy_score(y_test, y_pred))\n",
    "print(\"\\nClassification Report:\")\n",
    "print(classification_report(y_test, y_pred))\n",
    "print(\"\\nConfusion Matrix:\")\n",
    "print(confusion_matrix(y_test, y_pred))"
   ]
  },
  {
   "cell_type": "code",
   "execution_count": null,
   "id": "2fec4d55",
   "metadata": {},
   "outputs": [],
   "source": [
    "from sklearn.model_selection import GridSearchCV\n",
    "\n",
    "param_grid = {\n",
    "    'gender_model__n_estimators': [100, 200],\n",
    "    'gender_model__max_depth': [3, 6],\n",
    "    'gender_model__learning_rate': [0.1, 0.01],\n",
    "\n",
    "    'male_age_model__n_estimators': [100, 200],\n",
    "    'male_age_model__max_depth': [3, 6],\n",
    "    'male_age_model__learning_rate': [0.1, 0.01],\n",
    "\n",
    "    'female_age_model__n_estimators': [100, 200],\n",
    "    'female_age_model__max_depth': [3, 6],\n",
    "    'female_age_model__learning_rate': [0.1, 0.01],\n",
    "}\n",
    "\n",
    "grid = GridSearchCV(gender_age_pipe, param_grid, cv=3, scoring='accuracy', verbose=2, n_jobs=-1)\n",
    "grid.fit(X_train, y_train)\n",
    "\n",
    "print(\"Best Score:\", grid.best_score_)\n",
    "print(\"Best Params:\", grid.best_params_)\n",
    "\n",
    "y_pred = grid.best_estimator_.predict(X_test)\n",
    "print(\"Test Accuracy:\", accuracy_score(y_test, y_pred))\n",
    "print(\"\\nTest Classification Report:\")\n",
    "print(classification_report(y_test, y_pred))\n",
    "print(\"\\nConfusion Matrix:\")\n",
    "print(confusion_matrix(y_test, y_pred))"
   ]
  }
 ],
 "metadata": {
  "kernelspec": {
   "display_name": "Python 3",
   "language": "python",
   "name": "python3"
  },
  "language_info": {
   "codemirror_mode": {
    "name": "ipython",
    "version": 3
   },
   "file_extension": ".py",
   "mimetype": "text/x-python",
   "name": "python",
   "nbconvert_exporter": "python",
   "pygments_lexer": "ipython3",
   "version": "3.12.9"
  }
 },
 "nbformat": 4,
 "nbformat_minor": 5
}
