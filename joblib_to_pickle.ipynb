{
 "cells": [
  {
   "cell_type": "code",
   "execution_count": 1,
   "id": "6451ea73",
   "metadata": {},
   "outputs": [],
   "source": [
    "# Install the missing package\n",
    "import cloudpickle\n",
    "import joblib\n",
    "model = joblib.load(\"trials/model_30_04_2025_T14_40_13/model.joblib\")\n",
    "with open(\"model.pkl\", \"wb\") as f:\n",
    "    cloudpickle.dump(model, f)"
   ]
  }
 ],
 "metadata": {
  "kernelspec": {
   "display_name": "Python 3",
   "language": "python",
   "name": "python3"
  },
  "language_info": {
   "codemirror_mode": {
    "name": "ipython",
    "version": 3
   },
   "file_extension": ".py",
   "mimetype": "text/x-python",
   "name": "python",
   "nbconvert_exporter": "python",
   "pygments_lexer": "ipython3",
   "version": "3.12.2"
  }
 },
 "nbformat": 4,
 "nbformat_minor": 5
}
